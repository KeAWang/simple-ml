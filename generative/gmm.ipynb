{
 "cells": [
  {
   "cell_type": "code",
   "execution_count": 1,
   "metadata": {},
   "outputs": [],
   "source": [
    "import pandas as pd\n",
    "import numpy as np\n",
    "import matplotlib.pyplot as plt\n",
    "\n",
    "%matplotlib inline"
   ]
  },
  {
   "cell_type": "code",
   "execution_count": 2,
   "metadata": {},
   "outputs": [],
   "source": [
    "df = pd.read_csv(\"../datasets/old_faithful.dat\", delim_whitespace=True,\n",
    "                 skiprows=25)"
   ]
  },
  {
   "cell_type": "code",
   "execution_count": 3,
   "metadata": {},
   "outputs": [
    {
     "data": {
      "text/html": [
       "<div>\n",
       "<style scoped>\n",
       "    .dataframe tbody tr th:only-of-type {\n",
       "        vertical-align: middle;\n",
       "    }\n",
       "\n",
       "    .dataframe tbody tr th {\n",
       "        vertical-align: top;\n",
       "    }\n",
       "\n",
       "    .dataframe thead th {\n",
       "        text-align: right;\n",
       "    }\n",
       "</style>\n",
       "<table border=\"1\" class=\"dataframe\">\n",
       "  <thead>\n",
       "    <tr style=\"text-align: right;\">\n",
       "      <th></th>\n",
       "      <th>eruptions</th>\n",
       "      <th>waiting</th>\n",
       "    </tr>\n",
       "  </thead>\n",
       "  <tbody>\n",
       "    <tr>\n",
       "      <th>1</th>\n",
       "      <td>3.600</td>\n",
       "      <td>79</td>\n",
       "    </tr>\n",
       "    <tr>\n",
       "      <th>2</th>\n",
       "      <td>1.800</td>\n",
       "      <td>54</td>\n",
       "    </tr>\n",
       "    <tr>\n",
       "      <th>3</th>\n",
       "      <td>3.333</td>\n",
       "      <td>74</td>\n",
       "    </tr>\n",
       "    <tr>\n",
       "      <th>4</th>\n",
       "      <td>2.283</td>\n",
       "      <td>62</td>\n",
       "    </tr>\n",
       "    <tr>\n",
       "      <th>5</th>\n",
       "      <td>4.533</td>\n",
       "      <td>85</td>\n",
       "    </tr>\n",
       "  </tbody>\n",
       "</table>\n",
       "</div>"
      ],
      "text/plain": [
       "   eruptions  waiting\n",
       "1      3.600       79\n",
       "2      1.800       54\n",
       "3      3.333       74\n",
       "4      2.283       62\n",
       "5      4.533       85"
      ]
     },
     "execution_count": 3,
     "metadata": {},
     "output_type": "execute_result"
    }
   ],
   "source": [
    "df.head()"
   ]
  },
  {
   "cell_type": "code",
   "execution_count": 4,
   "metadata": {},
   "outputs": [
    {
     "data": {
      "text/plain": [
       "<matplotlib.axes._subplots.AxesSubplot at 0x7ff165162e80>"
      ]
     },
     "execution_count": 4,
     "metadata": {},
     "output_type": "execute_result"
    },
    {
     "data": {
      "image/png": "[encoded data removed]",
      "text/plain": [
       "<Figure size 288x288 with 1 Axes>"
      ]
     },
     "metadata": {
      "needs_background": "light"
     },
     "output_type": "display_data"
    }
   ],
   "source": [
    "fig, ax = plt.subplots(figsize=plt.figaspect(1.0))\n",
    "df.plot.scatter(x=\"eruptions\", y=\"waiting\", ax=ax)"
   ]
  },
  {
   "cell_type": "code",
   "execution_count": 5,
   "metadata": {},
   "outputs": [],
   "source": [
    "# standardize the data to make GMM initializations easier\n",
    "df_scaled = df.eval(\"eruptions = (eruptions - eruptions.mean()) / eruptions.std()\")\n",
    "df_scaled = df_scaled.eval(\"waiting = (waiting - waiting.mean()) / waiting.std()\")"
   ]
  },
  {
   "cell_type": "code",
   "execution_count": 6,
   "metadata": {},
   "outputs": [
    {
     "data": {
      "text/plain": [
       "<matplotlib.axes._subplots.AxesSubplot at 0x7ff0ea4dcc10>"
      ]
     },
     "execution_count": 6,
     "metadata": {},
     "output_type": "execute_result"
    },
    {
     "data": {
      "image/png": "[encoded data removed]",
      "text/plain": [
       "<Figure size 288x288 with 1 Axes>"
      ]
     },
     "metadata": {
      "needs_background": "light"
     },
     "output_type": "display_data"
    }
   ],
   "source": [
    "fig, ax = plt.subplots(figsize=plt.figaspect(1.0))\n",
    "df_scaled.plot.scatter(x=\"eruptions\", y=\"waiting\", ax=ax)"
   ]
  },
  {
   "cell_type": "code",
   "execution_count": 7,
   "metadata": {},
   "outputs": [],
   "source": [
    "from scipy.stats import multivariate_normal as mvn\n",
    "\n",
    "class GMM:\n",
    "    def __init__(self, n_mixtures: int):\n",
    "        # Note that labels are latent variables in a GMM        \n",
    "        self.n_mixtures = n_mixtures\n",
    "        \n",
    "    def _initialize(self, X):\n",
    "        assert X.ndim == 2\n",
    "        self.n_dim = X.shape[1]\n",
    "        self.latent_prior = np.ones(self.n_mixtures) / self.n_mixtures\n",
    "        # Each mixture i is N(mu_i, sigma_i^2 I)\n",
    "        self.means = np.random.randn(self.n_mixtures, self.n_dim)\n",
    "        self.covs = np.tile(np.eye(self.n_dim), (self.n_mixtures, 1, 1))\n",
    "    \n",
    "    def fit(self, X: np.ndarray, max_iters: int):\n",
    "        self._initialize(X)\n",
    "        for i in range(max_iters):\n",
    "            # E-step\n",
    "            conditional_likelihoods = np.stack([mvn.pdf(X, mean=mean, cov=cov)\n",
    "                                                for mean, cov in zip(self.means, self.covs)],\n",
    "                                               axis=1)\n",
    "            joint_likelihoods = self.latent_prior * conditional_likelihoods\n",
    "            observation_likelihoods = joint_likelihoods.sum(axis=1)\n",
    "            posteriors = joint_likelihoods / observation_likelihoods[:, None]\n",
    "            \n",
    "            # M-step\n",
    "            normalization = posteriors.sum(axis=0)\n",
    "            means = ((posteriors[:, None, :] * X[:, :, None]).sum(axis=0) / normalization)\n",
    "            centered = X[:, :, None] - means[None, :, :]\n",
    "            covs = (centered * posteriors[:, None, :]).transpose(2, 1, 0) @ centered.transpose(2, 0, 1)\n",
    "\n",
    "            self.covs = covs / normalization[:, None, None]\n",
    "            self.means = means.swapaxes(0, 1)\n",
    "            self.latent_prior = normalization / len(X)\n",
    "            \n",
    "            print(f\"Observation Log Likelihood: {np.log(observation_likelihoods).sum(0)}\")\n",
    "        \n",
    "    def predict(self, X):\n",
    "        pass\n",
    "    \n",
    "    def sample(self, n_samples):\n",
    "        labels = np.random.choice(self.n_mixtures, n_samples, p=self.latent_prior)\n",
    "        # TODO: Speed this up since scipy doesn't have batched distributions\n",
    "        samples = np.stack([mvn.rvs(mean=self.means[i], cov=self.covs[i], size=1) for i in labels], axis=0)\n",
    "        return samples\n",
    "        "
   ]
  },
  {
   "cell_type": "code",
   "execution_count": 8,
   "metadata": {},
   "outputs": [
    {
     "name": "stdout",
     "output_type": "stream",
     "text": [
      "Observation Log Likelihood: -797.2015340501628\n",
      "Observation Log Likelihood: -533.5063726365804\n",
      "Observation Log Likelihood: -516.2002281914248\n",
      "Observation Log Likelihood: -476.2984807431843\n",
      "Observation Log Likelihood: -453.1419830316952\n",
      "Observation Log Likelihood: -444.14502162441437\n",
      "Observation Log Likelihood: -434.9954736795566\n",
      "Observation Log Likelihood: -422.32545775112817\n",
      "Observation Log Likelihood: -407.5535963588677\n",
      "Observation Log Likelihood: -395.28733976840937\n",
      "Observation Log Likelihood: -386.18760843502196\n",
      "Observation Log Likelihood: -384.5193869195567\n",
      "Observation Log Likelihood: -384.461566904072\n",
      "Observation Log Likelihood: -384.45900242659525\n",
      "Observation Log Likelihood: -384.45886144375766\n",
      "Observation Log Likelihood: -384.4588533717683\n",
      "Observation Log Likelihood: -384.45885290523427\n",
      "Observation Log Likelihood: -384.45885287820954\n",
      "Observation Log Likelihood: -384.45885287664316\n",
      "Observation Log Likelihood: -384.4588528765524\n"
     ]
    }
   ],
   "source": [
    "model = GMM(2)\n",
    "model.fit(df_scaled.values, 20)"
   ]
  },
  {
   "cell_type": "code",
   "execution_count": 9,
   "metadata": {},
   "outputs": [
    {
     "data": {
      "text/plain": [
       "<matplotlib.legend.Legend at 0x7ff0ea460880>"
      ]
     },
     "execution_count": 9,
     "metadata": {},
     "output_type": "execute_result"
    },
    {
     "data": {
      "image/png": "[encoded data removed]",
      "text/plain": [
       "<Figure size 288x288 with 1 Axes>"
      ]
     },
     "metadata": {
      "needs_background": "light"
     },
     "output_type": "display_data"
    }
   ],
   "source": [
    "X_sampled = model.sample(200)\n",
    "fig, ax = plt.subplots(figsize=plt.figaspect(1.0))\n",
    "df_scaled.plot.scatter(x=\"eruptions\", y=\"waiting\", ax=ax, label=\"True\")\n",
    "ax.scatter(*X_sampled.T, c='r', label=\"Sampled\")\n",
    "\n",
    "ax.legend()"
   ]
  },
  {
   "cell_type": "code",
   "execution_count": null,
   "metadata": {},
   "outputs": [],
   "source": []
  }
 ],
 "metadata": {
  "kernelspec": {
   "display_name": "Python 3",
   "language": "python",
   "name": "python3"
  },
  "language_info": {
   "codemirror_mode": {
    "name": "ipython",
    "version": 3
   },
   "file_extension": ".py",
   "mimetype": "text/x-python",
   "name": "python",
   "nbconvert_exporter": "python",
   "pygments_lexer": "ipython3",
   "version": "3.8.1"
  }
 },
 "nbformat": 4,
 "nbformat_minor": 4
}
