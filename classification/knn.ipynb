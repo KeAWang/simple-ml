{
 "cells": [
  {
   "cell_type": "code",
   "execution_count": 1,
   "metadata": {},
   "outputs": [],
   "source": [
    "import numpy as np\n",
    "from sklearn import datasets, metrics\n",
    "import matplotlib.pyplot as plt\n",
    "\n",
    "%matplotlib inline"
   ]
  },
  {
   "cell_type": "code",
   "execution_count": 2,
   "metadata": {},
   "outputs": [
    {
     "data": {
      "image/png": "[encoded data removed]",
      "text/plain": [
       "<Figure size 432x288 with 4 Axes>"
      ]
     },
     "metadata": {
      "needs_background": "light"
     },
     "output_type": "display_data"
    }
   ],
   "source": [
    "\"\"\"\n",
    "Loading MNIST taken from:\n",
    "https://scikit-learn.org/stable/auto_examples/classification/plot_digits_classification.html\n",
    "\"\"\"\n",
    "\n",
    "# MNIST dataset\n",
    "digits = datasets.load_digits()\n",
    "\n",
    "# The data that we are interested in is made of 8x8 images of digits, let's\n",
    "# have a look at the first 4 images, stored in the `images` attribute of the\n",
    "# dataset.  If we were working from image files, we could load them using\n",
    "# matplotlib.pyplot.imread.  Note that each image must have the same size. For these\n",
    "# images, we know which digit they represent: it is given in the 'target' of\n",
    "# the dataset.\n",
    "images_and_labels = list(zip(digits.images, digits.target))\n",
    "for index, (image, label) in enumerate(images_and_labels[:4]):\n",
    "    plt.subplot(2, 4, index + 1)\n",
    "    plt.axis('off')\n",
    "    plt.imshow(image, cmap=plt.cm.gray_r, interpolation='nearest')\n",
    "    plt.title('Training: %i' % label)\n",
    "\n",
    "# To apply a classifier on this data, we need to flatten the image, to\n",
    "# turn the data in a (samples, feature) matrix:\n",
    "n_samples = len(digits.images)\n",
    "train_frac = 0.8\n",
    "n_train = int(train_frac * n_samples)\n",
    "n_test = n_samples - n_train\n",
    "\n",
    "x = digits.images.reshape((n_samples, -1))\n",
    "y = digits.target\n",
    "x_train = x[:n_train]\n",
    "y_train = y[:n_train]\n",
    "x_test = x[n_train:]\n",
    "y_test = y[n_train:]"
   ]
  },
  {
   "cell_type": "code",
   "execution_count": 3,
   "metadata": {},
   "outputs": [],
   "source": [
    "def knn_model(x_train, x_test, y_train, k):\n",
    "    y_train = y_train.flatten()\n",
    "    def sq_dist(A, B):\n",
    "        return (\n",
    "            (A ** 2).sum(-1, keepdims=True)\n",
    "            + (B ** 2).sum(-1, keepdims=True).T\n",
    "            - 2 * (A @ B.T)\n",
    "        )\n",
    "    test_train_dists = sq_dist(x_test, x_train)\n",
    "    knn = np.argsort(test_train_dists, axis=1)[:, :k]\n",
    "    # can compute distances if needed (e.g. for kernelized knn)\n",
    "    # rows = np.arange(len(x_test))[:, np.newaxis]\n",
    "    # dists = test_train_dists[rows, knn]\n",
    "    knn_labels = y_train[knn]\n",
    "    \n",
    "    # We take the mode for classification\n",
    "    from scipy.stats import mode\n",
    "    y_pred = mode(knn_labels, axis=1).mode.flatten()\n",
    "    \n",
    "    return y_pred"
   ]
  },
  {
   "cell_type": "code",
   "execution_count": 4,
   "metadata": {},
   "outputs": [],
   "source": [
    "y_pred = knn_model(x_train, x_test, y_train, 1)"
   ]
  },
  {
   "cell_type": "code",
   "execution_count": 7,
   "metadata": {},
   "outputs": [
    {
     "name": "stdout",
     "output_type": "stream",
     "text": [
      "              precision    recall  f1-score   support\n",
      "\n",
      "           0       1.00      1.00      1.00        35\n",
      "           1       0.92      1.00      0.96        36\n",
      "           2       1.00      1.00      1.00        35\n",
      "           3       0.97      0.84      0.90        37\n",
      "           4       1.00      0.92      0.96        37\n",
      "           5       0.90      1.00      0.95        37\n",
      "           6       1.00      1.00      1.00        37\n",
      "           7       0.97      1.00      0.99        36\n",
      "           8       0.94      0.88      0.91        33\n",
      "           9       0.87      0.92      0.89        37\n",
      "\n",
      "    accuracy                           0.96       360\n",
      "   macro avg       0.96      0.96      0.96       360\n",
      "weighted avg       0.96      0.96      0.96       360\n",
      "\n"
     ]
    }
   ],
   "source": [
    "print(f\"{metrics.classification_report(y_test, y_pred)}\")"
   ]
  }
 ],
 "metadata": {
  "kernelspec": {
   "display_name": "Python 3",
   "language": "python",
   "name": "python3"
  },
  "language_info": {
   "codemirror_mode": {
    "name": "ipython",
    "version": 3
   },
   "file_extension": ".py",
   "mimetype": "text/x-python",
   "name": "python",
   "nbconvert_exporter": "python",
   "pygments_lexer": "ipython3",
   "version": "3.7.3"
  }
 },
 "nbformat": 4,
 "nbformat_minor": 2
}
